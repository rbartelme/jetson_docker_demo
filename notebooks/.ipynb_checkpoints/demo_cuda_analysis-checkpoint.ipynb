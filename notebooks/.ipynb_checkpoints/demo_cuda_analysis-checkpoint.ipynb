{
 "cells": [
  {
   "cell_type": "markdown",
   "id": "incorporate-costa",
   "metadata": {},
   "source": [
    "# Demo CUDA Accelerated Analysis to Run on NVIDIA Jetson Nano"
   ]
  },
  {
   "cell_type": "markdown",
   "id": "interesting-university",
   "metadata": {},
   "source": [
    "## Download Example Data\n",
    "\n",
    "Example analysis is reproduced from this [Python demo with CUDA](https://pythonprogramming.net/gpu-deep-learning-neural-network-pytorch/), where the images are used to train a neural network to classify whether an image contains a picture of a cat or a dog. The training data are provided by [Microsoft], for a Kaggle competition."
   ]
  },
  {
   "cell_type": "code",
   "execution_count": 5,
   "id": "confused-smooth",
   "metadata": {},
   "outputs": [
    {
     "name": "stdout",
     "output_type": "stream",
     "text": [
      "--2021-08-02 22:28:28--  https://download.microsoft.com/download/3/E/1/3E1C3F21-ECDB-4869-8368-6DEBA77B919F/kagglecatsanddogs_3367a.zip\n",
      "Resolving download.microsoft.com (download.microsoft.com)... 23.45.156.115, 2600:1405:1000:2ba::e59, 2600:1405:1000:2bd::e59\n",
      "Connecting to download.microsoft.com (download.microsoft.com)|23.45.156.115|:443... connected.\n",
      "HTTP request sent, awaiting response... 200 OK\n",
      "Length: 824894548 (787M) [application/octet-stream]\n",
      "Saving to: 'kagglecatsanddogs_3367a.zip'\n",
      "\n",
      "kagglecatsanddogs_3 100%[===================>] 786.68M  98.6MB/s    in 8.5s    \n",
      "\n",
      "2021-08-02 22:28:37 (92.2 MB/s) - 'kagglecatsanddogs_3367a.zip' saved [824894548/824894548]\n",
      "\n"
     ]
    }
   ],
   "source": [
    "!wget https://download.microsoft.com/download/3/E/1/3E1C3F21-ECDB-4869-8368-6DEBA77B919F/kagglecatsanddogs_3367a.zip"
   ]
  },
  {
   "cell_type": "markdown",
   "id": "little-invasion",
   "metadata": {},
   "source": [
    "## Decompress Folder"
   ]
  },
  {
   "cell_type": "code",
   "execution_count": 10,
   "id": "motivated-somerset",
   "metadata": {},
   "outputs": [],
   "source": [
    "import zipfile\n",
    "container_path = \"/pose_workdir/_host_home/\"\n",
    "repo = \"jetson_docker_demo/\"\n",
    "with zipfile.ZipFile(container_path+repo+\"notebooks/kagglecatsanddogs_3367a.zip\", 'r') as zip_ref:\n",
    "    zip_ref.extractall(container_path+repo)\n"
   ]
  },
  {
   "cell_type": "markdown",
   "id": "worth-oakland",
   "metadata": {},
   "source": [
    "## Import Libraries and Test CUDA Functionality"
   ]
  },
  {
   "cell_type": "code",
   "execution_count": 11,
   "id": "rotary-kentucky",
   "metadata": {},
   "outputs": [
    {
     "name": "stdout",
     "output_type": "stream",
     "text": [
      "Running on the GPU\n"
     ]
    }
   ],
   "source": [
    "import os\n",
    "import cv2\n",
    "import numpy as np\n",
    "from tqdm import tqdm\n",
    "import torch\n",
    "import torch.nn as nn\n",
    "import torch.nn.functional as F\n",
    "import torch.optim as optim\n",
    "\n",
    "if torch.cuda.is_available():\n",
    "    device = torch.device(\"cuda:0\")  # you can continue going on here, like cuda:1 cuda:2....etc. \n",
    "    print(\"Running on the GPU\")\n",
    "else:\n",
    "    device = torch.device(\"cpu\")\n",
    "    print(\"Running on the CPU\")\n"
   ]
  },
  {
   "cell_type": "code",
   "execution_count": null,
   "id": "theoretical-sunrise",
   "metadata": {},
   "outputs": [],
   "source": []
  },
  {
   "cell_type": "code",
   "execution_count": null,
   "id": "foster-baker",
   "metadata": {},
   "outputs": [],
   "source": []
  }
 ],
 "metadata": {
  "kernelspec": {
   "display_name": "Python 3",
   "language": "python",
   "name": "python3"
  },
  "language_info": {
   "codemirror_mode": {
    "name": "ipython",
    "version": 3
   },
   "file_extension": ".py",
   "mimetype": "text/x-python",
   "name": "python",
   "nbconvert_exporter": "python",
   "pygments_lexer": "ipython3",
   "version": "3.6.9"
  }
 },
 "nbformat": 4,
 "nbformat_minor": 5
}
